{
 "cells": [
  {
   "cell_type": "code",
   "execution_count": null,
   "metadata": {},
   "outputs": [],
   "source": [
    "\n",
    "import cv2\n",
    "from matplotlib import pyplot as plt\n",
    "import numpy as np\n",
    "import imutils\n",
    "import easyocr\n",
    "\n",
    "def model(img):\n",
    "    gray = cv2.cvtColor(img, cv2.COLOR_BGR2GRAY)\n",
    "    bfilter = cv2.bilateralFilter(gray, 11, 17, 17) #Noise reduction\n",
    "    edged = cv2.Canny(bfilter, 30, 200) #Edge detection\n",
    "    keypoints = cv2.findContours(edged.copy(), cv2.RETR_TREE, cv2.CHAIN_APPROX_SIMPLE)\n",
    "    contours = imutils.grab_contours(keypoints)\n",
    "    contours = sorted(contours, key=cv2.contourArea, reverse=True)[:10]\n",
    "    location = None\n",
    "    for contour in contours:\n",
    "        approx = cv2.approxPolyDP(contour, 10, True)\n",
    "        if len(approx) == 4:\n",
    "            location = approx\n",
    "            break\n",
    "    mask = np.zeros(gray.shape, np.uint8)\n",
    "    new_image = cv2.drawContours(mask, [location], 0,255, -1)\n",
    "    new_image = cv2.bitwise_and(img, img, mask=mask)\n",
    "    (x,y) = np.where(mask==255)\n",
    "    (x1, y1) = (np.min(x), np.min(y))\n",
    "    (x2, y2) = (np.max(x), np.max(y))\n",
    "    cropped_image = gray[x1:x2+1, y1:y2+1]\n",
    "    reader = easyocr.Reader(['en'])\n",
    "    result = reader.readtext(cropped_image)\n",
    "    print(result)\n",
    "\n",
    "img = cv2.imread('image3.jpg')\n",
    "model(img)"
   ]
  }
 ],
 "metadata": {
  "kernelspec": {
   "display_name": "Python 3",
   "language": "python",
   "name": "python3"
  },
  "language_info": {
   "codemirror_mode": {
    "name": "ipython",
    "version": 3
   },
   "file_extension": ".py",
   "mimetype": "text/x-python",
   "name": "python",
   "nbconvert_exporter": "python",
   "pygments_lexer": "ipython3",
   "version": "3.9.13"
  },
  "orig_nbformat": 4
 },
 "nbformat": 4,
 "nbformat_minor": 2
}
